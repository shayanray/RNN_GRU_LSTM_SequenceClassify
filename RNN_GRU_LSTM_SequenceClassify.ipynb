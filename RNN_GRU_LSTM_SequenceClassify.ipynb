{
 "cells": [
  {
   "cell_type": "markdown",
   "metadata": {},
   "source": [
    "# Sequence Classification using Recurrent Neural Networks(RNN)\n",
    "In this homework, you will learn how to train a recurrent neural network for human action classification. RNN is designed handle sequential data. The network can incorporate both past history and current input. [This](http://colah.github.io/posts/2015-08-Understanding-LSTMs/) is a very good tutorial. You should read it before you start."
   ]
  },
  {
   "cell_type": "markdown",
   "metadata": {},
   "source": [
    "## Setup\n",
    "**Please make sure you have h5py and torchnet installed**\n",
    "> pip install h5py\n",
    "\n",
    "> pip install git+https://github.com/pytorch/tnt.git@master\n",
    "\n",
    "## Known Windows Issues:\n",
    "### In case you're getting an error [Read more](https://discuss.pytorch.org/t/brokenpipeerror-errno-32-broken-pipe-when-i-run-cifar10-tutorial-py/6224): \n",
    "```python\n",
    "BrokenPipeError: [Errno 32] Broken pipe\n",
    "```\n",
    "\n",
    ">In the dataloader block change Line 39, 42, and 45 num_workers=0 \n",
    "\n",
    "### In case of error (This should be a CUDA error [Read more](https://discuss.pytorch.org/t/asserterror-in-lstm-layer-on-gpu/8698)):\n",
    "\n",
    "```python\n",
    "--> 186             assert param_from.type() == param_to.type()\n",
    "AssertionError: \n",
    "```\n",
    "\n",
    "**Replace following lines:**\n",
    "```python\n",
    "def run_epoch(data_loader, model, criterion, epoch, is_training, optimizer=None):\n",
    "    ...\n",
    "    input_sequence_var = Variable(sequence).type(FloatTensor)\n",
    "    input_label_var = Variable(label).type(LongTensor)\n",
    "    ...\n",
    "```\n",
    "```python\n",
    "def predict_on_test(model, data_loader):\n",
    "    ...\n",
    "        input_sequence_var = Variable(sequence).type(FloatTensor)\n",
    "    ...\n",
    "```\n",
    "** With: **\n",
    "```python\n",
    "def run_epoch(data_loader, model, criterion, epoch, is_training, optimizer=None):\n",
    "    ...\n",
    "    input_sequence_var = Variable(sequence)\n",
    "    input_label_var = Variable(label)\n",
    "    ...\n",
    "```\n",
    "```python\n",
    "def predict_on_test(model, data_loader):\n",
    "    ...\n",
    "        input_sequence_var = Variable(sequence)\n",
    "    ...\n",
    "```"
   ]
  },
  {
   "cell_type": "code",
   "execution_count": 35,
   "metadata": {
    "collapsed": false
   },
   "outputs": [
    {
     "name": "stdout",
     "output_type": "stream",
     "text": [
      "use cuda: False\n"
     ]
    }
   ],
   "source": [
    "import os\n",
    "import numpy as np\n",
    "import h5py\n",
    "\n",
    "import torch\n",
    "import torch.nn as nn\n",
    "from torch.autograd import Variable\n",
    "import torch.utils.data as DD\n",
    "import torchnet as tnt\n",
    "\n",
    "\n",
    "use_cuda = torch.cuda.is_available()\n",
    "print('use cuda: %s'%(use_cuda))\n",
    "FloatTensor = torch.cuda.FloatTensor if use_cuda else torch.FloatTensor\n",
    "LongTensor = torch.cuda.LongTensor if use_cuda else torch.LongTensor\n",
    "ByteTensor = torch.cuda.ByteTensor if use_cuda else torch.ByteTensor\n",
    "\n"
   ]
  },
  {
   "cell_type": "markdown",
   "metadata": {},
   "source": [
    "## Dataset\n",
    "The data we are using is skeleton data, which indicates the 3D locations of body joints. In total, there are 25 body joints. It is collected by Kinect v2. To make it easier, each sequence have same number of frames. You need to classify 10 different actions. There are 4000 training sequences, 800 validation sequences, and 1000 test sequences. Each sequence has 15 frames, each frame is a 75-dimension vector (3*25).\n",
    "\n",
    "For your convenience, we provide the dataloader for you.\n"
   ]
  },
  {
   "cell_type": "code",
   "execution_count": 36,
   "metadata": {
    "collapsed": true
   },
   "outputs": [],
   "source": [
    "class Dataset(DD.Dataset):\n",
    "    # subset can be: 'train', 'val', 'test'\n",
    "    def __init__(self, data_path, subset='train'):\n",
    "        super(Dataset, self).__init__()\n",
    "        self.data_path = os.path.join(data_path, '%s_data.h5'%subset)\n",
    "        self.subset = subset\n",
    "\n",
    "        with h5py.File(self.data_path) as f:\n",
    "            self.data = np.array(f['data'])\n",
    "\n",
    "        if subset != 'test':\n",
    "            self.label_path = os.path.join(data_path, '%s_label.h5'%subset)\n",
    "            with h5py.File(self.label_path) as f:\n",
    "                self.label = np.array(f['label'])\n",
    "\n",
    "        self.num_sequences = self.data.shape[0]\n",
    "        self.seq_len = self.data.shape[1]\n",
    "        self.n_dim = self.data.shape[2]\n",
    "\n",
    "    def __getitem__(self, index):\n",
    "        seq = self.data[index]\n",
    "        if self.subset != 'test':\n",
    "            label = int(self.label[index])\n",
    "            sample = {'seq': seq, 'label': label}\n",
    "        else:\n",
    "            sample = {'seq': seq}\n",
    "        return sample\n",
    "\n",
    "    def __len__(self):\n",
    "        return self.num_sequences\n",
    "\n",
    "trSet = Dataset('./data', subset='train')\n",
    "valSet = Dataset('./data', subset='val')\n",
    "tstSet = Dataset('./data', subset='test')\n",
    "\n",
    "batch_size = 100\n",
    "trLD = DD.DataLoader(trSet, batch_size=batch_size,\n",
    "       sampler=DD.sampler.RandomSampler(trSet),\n",
    "       num_workers=2, pin_memory=False)\n",
    "valLD = DD.DataLoader(valSet, batch_size=batch_size,\n",
    "       sampler=DD.sampler.SequentialSampler(valSet),\n",
    "       num_workers=1, pin_memory=False)\n",
    "tstLD = DD.DataLoader(tstSet, batch_size=batch_size,\n",
    "       sampler=DD.sampler.SequentialSampler(tstSet),\n",
    "       num_workers=1, pin_memory=False)\n",
    "\n",
    "input_dim = trSet.n_dim\n",
    "num_class = 10"
   ]
  },
  {
   "cell_type": "markdown",
   "metadata": {},
   "source": [
    "## Model\n",
    "Pytorch has implemented different types of recurrent layers for you. For this homework, you can use any type of RNNs as you want:\n",
    "> torch.nn.RNN()\n",
    "\n",
    "> torch.nn.LSTM()\n",
    "\n",
    "> torch.nn.GRU()\n",
    "\n",
    "You can check details for different types of recurrent layers here: [RNN](http://pytorch.org/docs/master/nn.html#torch.nn.RNN), [LSTM]( http://pytorch.org/docs/master/nn.html#torch.nn.LSTM), [GRU](http://pytorch.org/docs/master/nn.html#torch.nn.GRU)\n",
    "\n",
    "\n",
    "### Implement a specific model\n",
    "In this section, you need to implement a model for sequence classification. The model has following layers:\n",
    "* 1 Layer LSTM layer with hidden size of 100, and input size of 75\n",
    "* A linear layer that goes from 100 to num_class (10). \n",
    "\n",
    "An LSTM layer takes an input of size of (batch_size, seq_len, fea_dim) and outputs a variable of shape (batch_size, seq_len, hidden_size). In this homework, the classification score for a sequence is the classification score for the last step of rnn_outputs.\n",
    "\n"
   ]
  },
  {
   "cell_type": "code",
   "execution_count": 37,
   "metadata": {
    "collapsed": true
   },
   "outputs": [],
   "source": [
    "# sequence classification model\n",
    "class SequenceClassify(nn.Module):\n",
    "    def __init__(self):\n",
    "        super(SequenceClassify, self).__init__()\n",
    "        \n",
    "        ############## 1st To Do (20 points) ##############\n",
    "        ###################################################\n",
    "        self.recurrent_layer = nn.LSTM(input_size=75, hidden_size=100, num_layers=1)\n",
    "        self.classify_layer = nn.Linear(in_features=100, out_features=10)\n",
    "        ###################################################\n",
    "    \n",
    "    # the size of input is [batch_size, seq_len(15), input_dim(75)]\n",
    "    # the size of logits is [batch_size, num_class]\n",
    "    def forward(self, input, h_t_1=None, c_t_1=None):\n",
    "        # the size of rnn_outputs is [batch_size, seq_len, rnn_size]\n",
    "        rnn_outputs, (hn, cn) = self.recurrent_layer(input)\n",
    "        # classify the last step of rnn_outpus\n",
    "        # the size of logits is [batch_size, num_class]\n",
    "        logits = self.classify_layer(rnn_outputs[:,-1])\n",
    "        return logits\n",
    "\n",
    "model = SequenceClassify()"
   ]
  },
  {
   "cell_type": "markdown",
   "metadata": {},
   "source": [
    "## Train the model\n",
    "After you have the dataloader and model, you can start training the model. Define a SGD optimizer with learning rate of 1e-2, and a cross-entropy loss function:"
   ]
  },
  {
   "cell_type": "code",
   "execution_count": 38,
   "metadata": {
    "collapsed": false
   },
   "outputs": [],
   "source": [
    "################ 2nd To Do  (5 points)##################\n",
    "optimizer = torch.optim.SGD(model.parameters(),lr=1e-2)\n",
    "criterion = nn.CrossEntropyLoss()"
   ]
  },
  {
   "cell_type": "code",
   "execution_count": 39,
   "metadata": {
    "collapsed": false
   },
   "outputs": [
    {
     "name": "stdout",
     "output_type": "stream",
     "text": [
      "train Epoch: 0  , Loss: 2.3068,  Accuracy: 9.78\n",
      "val Epoch: 0  , Loss: 2.3047,  Accuracy: 9.62\n",
      "train Epoch: 1  , Loss: 2.3027,  Accuracy: 9.25\n",
      "train Epoch: 2  , Loss: 2.3011,  Accuracy: 12.10\n",
      "train Epoch: 3  , Loss: 2.3003,  Accuracy: 13.48\n",
      "train Epoch: 4  , Loss: 2.2993,  Accuracy: 14.30\n",
      "train Epoch: 5  , Loss: 2.2984,  Accuracy: 14.08\n",
      "val Epoch: 5  , Loss: 2.2987,  Accuracy: 13.25\n",
      "train Epoch: 6  , Loss: 2.2982,  Accuracy: 12.28\n",
      "train Epoch: 7  , Loss: 2.2970,  Accuracy: 15.05\n",
      "train Epoch: 8  , Loss: 2.2965,  Accuracy: 15.48\n",
      "train Epoch: 9  , Loss: 2.2959,  Accuracy: 15.58\n"
     ]
    }
   ],
   "source": [
    "# run the model for one epoch\n",
    "# can be used for both training or validation model\n",
    "def run_epoch(data_loader, model, criterion, epoch, is_training, optimizer=None):\n",
    "    if is_training:\n",
    "        model.train()\n",
    "        logger_prefix = 'train'\n",
    "    else:\n",
    "        model.eval()\n",
    "        logger_prefix = 'val'\n",
    "\n",
    "    confusion_matrix = tnt.meter.ConfusionMeter(num_class)\n",
    "    acc = tnt.meter.ClassErrorMeter(accuracy=True)\n",
    "    meter_loss = tnt.meter.AverageValueMeter()\n",
    "\n",
    "    for batch_idx, sample in enumerate(data_loader):\n",
    "        sequence = sample['seq']\n",
    "        label = sample['label']\n",
    "        input_sequence_var = Variable(sequence).type(FloatTensor)\n",
    "        input_label_var = Variable(label).type(LongTensor)\n",
    "        \n",
    "\n",
    "        # compute output\n",
    "        # output_logits: [batch_size, num_class]\n",
    "        output_logits = model(input_sequence_var)\n",
    "        loss = criterion(output_logits, input_label_var)\n",
    "\n",
    "        if is_training:\n",
    "            optimizer.zero_grad()\n",
    "            loss.backward()\n",
    "            optimizer.step()\n",
    "\n",
    "        meter_loss.add(loss.data[0])\n",
    "        acc.add(output_logits.data, input_label_var.data)\n",
    "        confusion_matrix.add(output_logits.data, input_label_var.data)\n",
    "\n",
    "\n",
    "    print('%s Epoch: %d  , Loss: %.4f,  Accuracy: %.2f'%(logger_prefix, epoch, meter_loss.value()[0], acc.value()[0]))\n",
    "    return acc.value()[0]\n",
    "\n",
    "num_epochs = 10\n",
    "evaluate_every_epoch = 5\n",
    "for e in range(num_epochs):\n",
    "    run_epoch(trLD, model, criterion, e, True, optimizer)\n",
    "    if e % evaluate_every_epoch == 0:\n",
    "        run_epoch(valLD, model, criterion, e, False, None)   \n"
   ]
  },
  {
   "cell_type": "markdown",
   "metadata": {},
   "source": [
    "## Submit your results on Kaggle\n",
    "\n",
    "### Train a better model for action recognition!\n",
    "Now it's your job to experiment with architectures, hyperparameters, loss functions, and optimizers to train a model that achieves better accuracy on the action recognition validation set.\n",
    "\n",
    "\n",
    "### Testing the model and submit on Kaggle\n",
    "Testing the model on the testing set and save the results as a .csv file. \n",
    "Please submitted the results.csv file generated by predict_on_test() to Kaggle(https://www.kaggle.com/c/cse512springhw5) to see how well your network performs on the test set. \n",
    "################ 3rd To Do  (30 points, the highest 3 entries get extra 10 points) ###############\n"
   ]
  },
  {
   "cell_type": "code",
   "execution_count": 44,
   "metadata": {
    "collapsed": false
   },
   "outputs": [],
   "source": [
    "# Custom  model\n",
    "class MyModel(nn.Module):\n",
    "    def __init__(self):\n",
    "        super(MyModel, self).__init__()\n",
    "        self.recurrent_layer = nn.LSTM(input_size=75, hidden_size=75, num_layers=2, batch_first=True, bidirectional=True, dropout=0.25)\n",
    "        self.classify_layer = nn.Linear(in_features=75*2, out_features=10)\n",
    "        \n",
    "        # the size of input is [batch_size, seq_len(15), input_dim(75)]\n",
    "        # the size of logits is [batch_size, num_class]\n",
    "        \n",
    "    def forward(self, input, h_t_1=None, c_t_1=None):\n",
    "        # the size of rnn_outputs is [batch_size, seq_len, rnn_size]\n",
    "        rnn_outputs, (hn, cn) = self.recurrent_layer(input)\n",
    "        # classify the last step of rnn_outpus\n",
    "        # the size of logits is [batch_size, num_class]\n",
    "        logits = self.classify_layer(rnn_outputs[:,-1])\n",
    "        return logits\n",
    "    \n",
    "model2 = MyModel()"
   ]
  },
  {
   "cell_type": "code",
   "execution_count": 45,
   "metadata": {
    "collapsed": false
   },
   "outputs": [],
   "source": [
    "#### optimizers and loss functions for custom classifier\n",
    "optimizer2 = torch.optim.Adam(params=model2.parameters(), lr=3e-3, betas=(0.1, 0.2))\n",
    "criterion2 = nn.CrossEntropyLoss()"
   ]
  },
  {
   "cell_type": "code",
   "execution_count": 46,
   "metadata": {
    "collapsed": false
   },
   "outputs": [
    {
     "name": "stdout",
     "output_type": "stream",
     "text": [
      "train Epoch: 0  , Loss: 2.1454,  Accuracy: 18.23\n",
      "val Epoch: 0  , Loss: 1.8593,  Accuracy: 31.13\n",
      "train Epoch: 1  , Loss: 1.6809,  Accuracy: 36.38\n",
      "train Epoch: 2  , Loss: 1.3308,  Accuracy: 49.95\n",
      "train Epoch: 3  , Loss: 1.1720,  Accuracy: 56.85\n",
      "train Epoch: 4  , Loss: 1.0176,  Accuracy: 62.18\n",
      "train Epoch: 5  , Loss: 0.9476,  Accuracy: 65.35\n",
      "val Epoch: 5  , Loss: 1.0206,  Accuracy: 65.88\n",
      "train Epoch: 6  , Loss: 0.8942,  Accuracy: 67.60\n",
      "train Epoch: 7  , Loss: 0.8074,  Accuracy: 71.17\n",
      "train Epoch: 8  , Loss: 0.7618,  Accuracy: 72.52\n",
      "train Epoch: 9  , Loss: 0.7324,  Accuracy: 73.60\n",
      "train Epoch: 10  , Loss: 0.6998,  Accuracy: 74.67\n",
      "val Epoch: 10  , Loss: 0.9392,  Accuracy: 66.62\n",
      "train Epoch: 11  , Loss: 0.6599,  Accuracy: 76.83\n",
      "train Epoch: 12  , Loss: 0.6467,  Accuracy: 76.75\n",
      "train Epoch: 13  , Loss: 0.6138,  Accuracy: 78.28\n",
      "train Epoch: 14  , Loss: 0.5817,  Accuracy: 78.75\n",
      "train Epoch: 15  , Loss: 0.5729,  Accuracy: 79.62\n",
      "val Epoch: 15  , Loss: 0.8938,  Accuracy: 72.25\n",
      "train Epoch: 16  , Loss: 0.5630,  Accuracy: 79.60\n",
      "train Epoch: 17  , Loss: 0.5341,  Accuracy: 80.53\n",
      "train Epoch: 18  , Loss: 0.5123,  Accuracy: 81.55\n",
      "train Epoch: 19  , Loss: 0.5013,  Accuracy: 81.27\n",
      "train Epoch: 20  , Loss: 0.4887,  Accuracy: 82.12\n",
      "val Epoch: 20  , Loss: 0.8737,  Accuracy: 71.00\n",
      "train Epoch: 21  , Loss: 0.4770,  Accuracy: 82.65\n",
      "train Epoch: 22  , Loss: 0.4511,  Accuracy: 83.82\n",
      "train Epoch: 23  , Loss: 0.4351,  Accuracy: 84.00\n",
      "train Epoch: 24  , Loss: 0.4285,  Accuracy: 84.70\n",
      "train Epoch: 25  , Loss: 0.4063,  Accuracy: 85.22\n",
      "val Epoch: 25  , Loss: 0.7750,  Accuracy: 76.38\n",
      "train Epoch: 26  , Loss: 0.3874,  Accuracy: 86.45\n",
      "train Epoch: 27  , Loss: 0.3658,  Accuracy: 87.08\n",
      "train Epoch: 28  , Loss: 0.3676,  Accuracy: 86.22\n",
      "train Epoch: 29  , Loss: 0.3511,  Accuracy: 87.33\n",
      "train Epoch: 30  , Loss: 0.3437,  Accuracy: 87.50\n",
      "val Epoch: 30  , Loss: 0.7408,  Accuracy: 78.62\n",
      "train Epoch: 31  , Loss: 0.3420,  Accuracy: 87.67\n",
      "train Epoch: 32  , Loss: 0.3315,  Accuracy: 88.08\n",
      "train Epoch: 33  , Loss: 0.3187,  Accuracy: 88.80\n",
      "train Epoch: 34  , Loss: 0.3163,  Accuracy: 88.48\n",
      "train Epoch: 35  , Loss: 0.3084,  Accuracy: 88.75\n",
      "val Epoch: 35  , Loss: 0.7280,  Accuracy: 79.12\n",
      "train Epoch: 36  , Loss: 0.2828,  Accuracy: 89.50\n",
      "train Epoch: 37  , Loss: 0.2710,  Accuracy: 90.12\n",
      "train Epoch: 38  , Loss: 0.2688,  Accuracy: 89.90\n",
      "train Epoch: 39  , Loss: 0.2684,  Accuracy: 89.92\n",
      "train Epoch: 40  , Loss: 0.2557,  Accuracy: 90.92\n",
      "val Epoch: 40  , Loss: 0.7269,  Accuracy: 80.75\n",
      "train Epoch: 41  , Loss: 0.2362,  Accuracy: 91.40\n",
      "train Epoch: 42  , Loss: 0.2459,  Accuracy: 91.03\n",
      "train Epoch: 43  , Loss: 0.2390,  Accuracy: 91.72\n",
      "train Epoch: 44  , Loss: 0.2298,  Accuracy: 92.22\n",
      "train Epoch: 45  , Loss: 0.2100,  Accuracy: 91.90\n",
      "val Epoch: 45  , Loss: 0.8109,  Accuracy: 78.25\n",
      "train Epoch: 46  , Loss: 0.2189,  Accuracy: 92.12\n",
      "train Epoch: 47  , Loss: 0.2143,  Accuracy: 91.83\n",
      "train Epoch: 48  , Loss: 0.1956,  Accuracy: 92.97\n",
      "train Epoch: 49  , Loss: 0.1992,  Accuracy: 92.88\n",
      "train Epoch: 50  , Loss: 0.1881,  Accuracy: 93.47\n",
      "val Epoch: 50  , Loss: 0.9284,  Accuracy: 78.62\n",
      "train Epoch: 51  , Loss: 0.1920,  Accuracy: 93.30\n",
      "train Epoch: 52  , Loss: 0.1844,  Accuracy: 93.65\n",
      "train Epoch: 53  , Loss: 0.2004,  Accuracy: 93.30\n",
      "train Epoch: 54  , Loss: 0.1889,  Accuracy: 93.40\n",
      "train Epoch: 55  , Loss: 0.1903,  Accuracy: 93.12\n",
      "val Epoch: 55  , Loss: 0.8547,  Accuracy: 80.38\n",
      "train Epoch: 56  , Loss: 0.1768,  Accuracy: 94.10\n",
      "train Epoch: 57  , Loss: 0.1606,  Accuracy: 94.08\n",
      "train Epoch: 58  , Loss: 0.1576,  Accuracy: 94.20\n",
      "train Epoch: 59  , Loss: 0.1546,  Accuracy: 94.40\n",
      "train Epoch: 60  , Loss: 0.1619,  Accuracy: 94.47\n",
      "val Epoch: 60  , Loss: 0.8693,  Accuracy: 80.38\n"
     ]
    }
   ],
   "source": [
    "# run the model for one epoch\n",
    "# can be used for both training or validation model\n",
    "def run_epoch(data_loader, model2, criterion2, epoch, is_training, optimizer2=None):\n",
    "    if is_training:\n",
    "        model2.train()\n",
    "        logger_prefix = 'train'\n",
    "    else:\n",
    "        model2.eval()\n",
    "        logger_prefix = 'val'\n",
    "\n",
    "    confusion_matrix = tnt.meter.ConfusionMeter(num_class)\n",
    "    acc = tnt.meter.ClassErrorMeter(accuracy=True)\n",
    "    meter_loss = tnt.meter.AverageValueMeter()\n",
    "\n",
    "    for batch_idx, sample in enumerate(data_loader):\n",
    "        sequence = sample['seq']\n",
    "        label = sample['label']\n",
    "        input_sequence_var = Variable(sequence).type(FloatTensor)\n",
    "        input_label_var = Variable(label).type(LongTensor)\n",
    "        \n",
    "\n",
    "        # compute output\n",
    "        # output_logits: [batch_size, num_class]\n",
    "        output_logits = model2(input_sequence_var)\n",
    "        loss = criterion2(output_logits, input_label_var)\n",
    "\n",
    "        if is_training:\n",
    "            optimizer2.zero_grad()\n",
    "            loss.backward()\n",
    "            optimizer2.step()\n",
    "\n",
    "        meter_loss.add(loss.data[0])\n",
    "        acc.add(output_logits.data, input_label_var.data)\n",
    "        confusion_matrix.add(output_logits.data, input_label_var.data)\n",
    "\n",
    "\n",
    "    print('%s Epoch: %d  , Loss: %.4f,  Accuracy: %.2f'%(logger_prefix, epoch, meter_loss.value()[0], acc.value()[0]))\n",
    "    return acc.value()[0]\n",
    "\n",
    "num_epochs = 61\n",
    "evaluate_every_epoch = 5\n",
    "for e in range(num_epochs):\n",
    "    run_epoch(trLD, model2, criterion2, e, True, optimizer2)\n",
    "    if e % evaluate_every_epoch == 0:\n",
    "        run_epoch(valLD, model2, criterion2, e, False, None)   \n"
   ]
  },
  {
   "cell_type": "code",
   "execution_count": 47,
   "metadata": {
    "collapsed": false
   },
   "outputs": [
    {
     "name": "stdout",
     "output_type": "stream",
     "text": [
      "MyModel(\n",
      "  (recurrent_layer): LSTM(75, 75, num_layers=2, batch_first=True, dropout=0.25, bidirectional=True)\n",
      "  (classify_layer): Linear(in_features=150, out_features=10, bias=True)\n",
      ")\n",
      "1000\n"
     ]
    }
   ],
   "source": [
    "# Use your best model to generate results on test set.\n",
    "print(model2)\n",
    "# generate csv file for test set\n",
    "def predict_on_test(model2, data_loader):\n",
    "    model2.eval() # Put the model in test mode (the opposite of model.train(), essentially)\n",
    "    results=open('results2.csv','w')\n",
    "    count=0\n",
    "    results.write('Id'+','+'Class'+'\\n')\n",
    "    for batch_idx, sample in enumerate(data_loader):\n",
    "        sequence = sample['seq']\n",
    "        input_sequence_var = Variable(sequence).type(FloatTensor)\n",
    "        scores = model2(input_sequence_var)\n",
    "        #print(scores.data.max(1))\n",
    "        _, preds = scores.data.max(1)\n",
    "        for i in range(len(preds)):\n",
    "            results.write(str(count)+','+str(preds[i])+'\\n')\n",
    "            count+=1\n",
    "    results.close()\n",
    "    return count\n",
    "\n",
    "count=predict_on_test(model2, tstLD)\n",
    "print(count)"
   ]
  },
  {
   "cell_type": "markdown",
   "metadata": {},
   "source": [
    "## Report the performance\n",
    "################ 4th To Do  (15 points)##################\n",
    "\n",
    "### Documentation of what you did\n",
    "In this cell, you should write an explanation of what you did (network architecture, optimiziter, learning rate, epoches) and visualizations or graphs of loss/accuracy curve tin the process of training and evaluating.\n",
    "\n",
    "#### ANSWER:\n",
    "\n",
    "The network architecture I chose for this problem was divided into logical units of recurrent layer (bi-directional LSTM) and classify layer (Linear layer)\n",
    "\n",
    "Recurrent Layer details:\n",
    "\n",
    "\t1. Bi-Directional LSTM with batch_first = True\n",
    "\t2. number of input layers = 75\n",
    "\t3. number of hidden layers = 75\n",
    "\t4. number of lstm layers = 2\n",
    "    5. added a dropout of 0.25\n",
    "\n",
    "\n",
    "\n",
    "Classify Layer details:\n",
    "\n",
    "\t1. double the number of hidden-features (as that is bi-directional)\n",
    "\t2. output 10 classes\n",
    "    3. bias = True\n",
    "\n",
    "Optimizer used: Adam with learning_rate = 3e-3, betas (0.1, 0.2)  (other optimizers like RMSProp did not work well)\n",
    "\n",
    "Criterion : CrossEntropyLoss function\n",
    "\n",
    "Epochs: 61 (last 1 for the last validation score)\n",
    "\n",
    "The Training and Validation graphs have been plotted below for reference\n",
    "\n",
    "### performance on Kaggle\n",
    "You should also report your Kaggle Performance here:\n",
    "\n",
    "#### ANSWER:\n",
    "\n",
    "ID/Team Name: shayanraysbu\n",
    "\n",
    "Score: 0.80200\n"
   ]
  },
  {
   "cell_type": "markdown",
   "metadata": {},
   "source": []
  },
  {
   "cell_type": "code",
   "execution_count": 13,
   "metadata": {
    "collapsed": true
   },
   "outputs": [],
   "source": [
    "# graph\n",
    "%matplotlib inline\n",
    "import matplotlib.pyplot as plt\n",
    "import numpy as np\n",
    "train_loss = [2.1454,1.6809,1.3308,1.1720,1.0176,0.9476,0.8942,0.8074,0.7618,0.7324,0.6998,0.6599,0.6467\n",
    "              ,0.6138,0.5817,0.5729,0.5630,0.5341,0.5123,0.5013,0.4887,0.4770,0.4511,0.4351,0.4285,0.4063,0.3874,0.3658,\n",
    "             0.3676,0.3511,0.3437,0.3420,0.3315,0.3187,0.3163,0.3084,0.2828,0.2710,0.2688,0.2684,0.2557,0.2362,0.2459,\n",
    "              0.2390,0.2298,0.2100,0.2189,0.2143,0.1956,0.1992,0.1881,0.1920,0.1844,0.2004,0.1889,0.1903,0.1768,0.1606,\n",
    "              0.1576,0.1546,0.1619]\n",
    "valdn_loss = [1.8593, 1.0206, 0.9392, 0.8938, 0.8737, 0.7750,0.7408, 0.7280, 0.7269,0.8109, 0.9284, 0.8547,0.8693]"
   ]
  },
  {
   "cell_type": "code",
   "execution_count": 14,
   "metadata": {
    "collapsed": false
   },
   "outputs": [
    {
     "data": {
      "text/plain": [
       "<matplotlib.figure.Figure at 0x7fa164de4da0>"
      ]
     },
     "metadata": {},
     "output_type": "display_data"
    },
    {
     "data": {
      "image/png": "[encoded data removed]",
      "text/plain": [
       "<matplotlib.figure.Figure at 0x7fa164de4048>"
      ]
     },
     "metadata": {},
     "output_type": "display_data"
    }
   ],
   "source": [
    "### training loss graph\n",
    "x_axis = np.arange(0,61,1)\n",
    "y_axis = np.arange(0,2.0,0.1)\n",
    "\n",
    "# plot particulars\n",
    "plt.figure(\"Training Loss function \")\n",
    "plt.figure(figsize=(20,10))\n",
    "plt.title(\"Training Loss\")\n",
    "plt.xlabel('count')\n",
    "plt.ylabel('Training loss')\n",
    "plt.plot(x_axis,train_loss)\n",
    "plt.show()"
   ]
  },
  {
   "cell_type": "code",
   "execution_count": 15,
   "metadata": {
    "collapsed": false
   },
   "outputs": [
    {
     "data": {
      "text/plain": [
       "<matplotlib.figure.Figure at 0x7fa164b7c8d0>"
      ]
     },
     "metadata": {},
     "output_type": "display_data"
    },
    {
     "data": {
      "image/png": "[encoded data removed]",
      "text/plain": [
       "<matplotlib.figure.Figure at 0x7fa164dec240>"
      ]
     },
     "metadata": {},
     "output_type": "display_data"
    }
   ],
   "source": [
    "### validation loss graph\n",
    "x_axis = np.arange(0,13,1)\n",
    "y_axis = np.arange(0,2.0,0.1)\n",
    "\n",
    "# plot particulars\n",
    "plt.figure(\"Validation Loss function \")\n",
    "plt.figure(figsize=(20,10))\n",
    "plt.title(\"Validation Loss\")\n",
    "plt.xlabel('count')\n",
    "plt.ylabel('Validation loss')\n",
    "plt.plot(x_axis,valdn_loss)\n",
    "plt.show()"
   ]
  },
  {
   "cell_type": "code",
   "execution_count": null,
   "metadata": {
    "collapsed": true
   },
   "outputs": [],
   "source": []
  },
  {
   "cell_type": "code",
   "execution_count": null,
   "metadata": {
    "collapsed": true
   },
   "outputs": [],
   "source": []
  }
 ],
 "metadata": {
  "kernelspec": {
   "display_name": "Python 3",
   "language": "python",
   "name": "python3"
  },
  "language_info": {
   "codemirror_mode": {
    "name": "ipython",
    "version": 3
   },
   "file_extension": ".py",
   "mimetype": "text/x-python",
   "name": "python",
   "nbconvert_exporter": "python",
   "pygments_lexer": "ipython3",
   "version": "3.6.4"
  }
 },
 "nbformat": 4,
 "nbformat_minor": 2
}
